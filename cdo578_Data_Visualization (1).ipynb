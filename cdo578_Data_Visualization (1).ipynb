{
 "cells": [
  {
   "cell_type": "markdown",
   "id": "a8d4bd15",
   "metadata": {},
   "source": [
    "# Hands-on 5: Data-Engineering II - Data Visualization\n",
    "\n",
    "*Note: This lab session is graded. Complete all the exercises, run your code and upload the ipynb file under assignment **Hands-on: Data Visualization**\n",
    "\n",
    "**Deadline is Today (02/14), 11:59 PM**"
   ]
  },
  {
   "cell_type": "markdown",
   "id": "6ee1c46e",
   "metadata": {},
   "source": [
    "## Data Collection for Weather Analysis "
   ]
  },
  {
   "cell_type": "markdown",
   "id": "978077f5",
   "metadata": {},
   "source": [
    "Last week, we scraped the EstesPark website and collected data for the month of January 2023. \n",
    "https://www.estesparkweather.net/archive_reports.php?date=202301. \n",
    "\n",
    "Today, we will try to perform data analysis where we extract descriptive statistics and apply data visualization techniques to gain some insights\n",
    "\n",
    "We would need the following Python libraries : \n",
    "\n",
    "**Pandas:** This is the library for dealing with Tablular data. Also allows some statistical opetations. \n",
    "\n",
    "**NumPy/Scipy:** Library for statistical analysis\n",
    "\n",
    "**Matplotlib:** For plotting data "
   ]
  },
  {
   "cell_type": "markdown",
   "id": "dd06e27b",
   "metadata": {},
   "source": [
    "## 0. Install and Import Libraries"
   ]
  },
  {
   "cell_type": "code",
   "execution_count": 123,
   "id": "e36bb7d4",
   "metadata": {},
   "outputs": [
    {
     "name": "stdout",
     "output_type": "stream",
     "text": [
      "Imported all libraries successfully...\n"
     ]
    }
   ],
   "source": [
    "# Check if beautifulsoup and pandas are already installed\n",
    "# If not, install it and then import\n",
    "try:\n",
    "    import pandas as pd\n",
    "    import numpy as np\n",
    "    import scipy\n",
    "    from matplotlib import pyplot as plt\n",
    "    print (\"Imported all libraries successfully...\")\n",
    "except:\n",
    "    import sys\n",
    "    !conda install --yes --prefix {sys.prefix} numpy\n",
    "    !conda install --yes --prefix {sys.prefix} pandas\n",
    "    !conda install --yes --prefix {sys.prefix} matplotlib\n",
    "    !conda install --yes --prefix {sys.prefix} scipy\n",
    "    print (\"Some libraries not found, installing...\")"
   ]
  },
  {
   "cell_type": "markdown",
   "id": "713305e0",
   "metadata": {},
   "source": [
    "## 1. Load the EstesPark data we collected"
   ]
  },
  {
   "cell_type": "markdown",
   "id": "e4c4c864",
   "metadata": {},
   "source": [
    "If you did the last hands-on, you should have the data on your local folder by the name **EstesPark_Weather_January_2023.csv**. If you do not have it, you could download it from **Canvas->Files->Week6->EstesPark_Weather_January_2023.csv**\n",
    "\n",
    "Try to open the file in Excel / Numbers / Open office (just doube click on it to open with your default app for numbers)."
   ]
  },
  {
   "cell_type": "code",
   "execution_count": 124,
   "id": "1e080d0c",
   "metadata": {
    "scrolled": true
   },
   "outputs": [
    {
     "name": "stdout",
     "output_type": "stream",
     "text": [
      "<class 'pandas.core.frame.DataFrame'>\n",
      "RangeIndex: 32 entries, 0 to 31\n",
      "Data columns (total 21 columns):\n",
      " #   Column                   Non-Null Count  Dtype  \n",
      "---  ------                   --------------  -----  \n",
      " 0   Unnamed: 0               32 non-null     int64  \n",
      " 1   Average and Extremes     32 non-null     object \n",
      " 2   Average temperature      32 non-null     float64\n",
      " 3   Average humidity         32 non-null     float64\n",
      " 4   Average dewpoint         32 non-null     float64\n",
      " 5   Average barometer        32 non-null     float64\n",
      " 6   Average windspeed        32 non-null     float64\n",
      " 7   Average gustspeed        32 non-null     float64\n",
      " 8   Average direction        32 non-null     object \n",
      " 9   Rainfall for month       32 non-null     object \n",
      " 10  Rainfall for year        32 non-null     object \n",
      " 11  Maximum rain per minute  32 non-null     object \n",
      " 12  Maximum temperature      32 non-null     object \n",
      " 13  Minimum temperature      32 non-null     object \n",
      " 14  Maximum humidity         32 non-null     object \n",
      " 15  Minimum humidity         32 non-null     object \n",
      " 16  Maximum pressure         32 non-null     object \n",
      " 17  Minimum pressure         32 non-null     object \n",
      " 18  Maximum windspeed        32 non-null     object \n",
      " 19  Maximum gust speed       32 non-null     object \n",
      " 20  Maximum heat index       32 non-null     object \n",
      "dtypes: float64(6), int64(1), object(14)\n",
      "memory usage: 5.4+ KB\n"
     ]
    }
   ],
   "source": [
    "# Before starting, let's tell jupyter not to ignore any output that is supposed to be printed\n",
    "from IPython.core.interactiveshell import InteractiveShell\n",
    "InteractiveShell.ast_node_interactivity = \"all\"\n",
    "\n",
    "estes_park_df = pd.read_csv(\"EstesPark_Weather_January_2023.csv\")\n",
    "\n",
    "estes_park_df.info()"
   ]
  },
  {
   "cell_type": "markdown",
   "id": "caadd567",
   "metadata": {},
   "source": [
    "Print a few rows."
   ]
  },
  {
   "cell_type": "code",
   "execution_count": 125,
   "id": "a1bb5a0b",
   "metadata": {
    "scrolled": true
   },
   "outputs": [
    {
     "data": {
      "text/html": [
       "<div>\n",
       "<style scoped>\n",
       "    .dataframe tbody tr th:only-of-type {\n",
       "        vertical-align: middle;\n",
       "    }\n",
       "\n",
       "    .dataframe tbody tr th {\n",
       "        vertical-align: top;\n",
       "    }\n",
       "\n",
       "    .dataframe thead th {\n",
       "        text-align: right;\n",
       "    }\n",
       "</style>\n",
       "<table border=\"1\" class=\"dataframe\">\n",
       "  <thead>\n",
       "    <tr style=\"text-align: right;\">\n",
       "      <th></th>\n",
       "      <th>Unnamed: 0</th>\n",
       "      <th>Average and Extremes</th>\n",
       "      <th>Average temperature</th>\n",
       "      <th>Average humidity</th>\n",
       "      <th>Average dewpoint</th>\n",
       "      <th>Average barometer</th>\n",
       "      <th>Average windspeed</th>\n",
       "      <th>Average gustspeed</th>\n",
       "      <th>Average direction</th>\n",
       "      <th>Rainfall for month</th>\n",
       "      <th>...</th>\n",
       "      <th>Maximum rain per minute</th>\n",
       "      <th>Maximum temperature</th>\n",
       "      <th>Minimum temperature</th>\n",
       "      <th>Maximum humidity</th>\n",
       "      <th>Minimum humidity</th>\n",
       "      <th>Maximum pressure</th>\n",
       "      <th>Minimum pressure</th>\n",
       "      <th>Maximum windspeed</th>\n",
       "      <th>Maximum gust speed</th>\n",
       "      <th>Maximum heat index</th>\n",
       "    </tr>\n",
       "  </thead>\n",
       "  <tbody>\n",
       "    <tr>\n",
       "      <th>0</th>\n",
       "      <td>0</td>\n",
       "      <td>Jan 1</td>\n",
       "      <td>28.5</td>\n",
       "      <td>83.0</td>\n",
       "      <td>23.9</td>\n",
       "      <td>29.7</td>\n",
       "      <td>3.0</td>\n",
       "      <td>5.0</td>\n",
       "      <td>76° (ENE)</td>\n",
       "      <td>0.09 in.</td>\n",
       "      <td>...</td>\n",
       "      <td>0.01 in. on day 01 at time 12:49</td>\n",
       "      <td>36.1°F on day 01 at time 12:51</td>\n",
       "      <td>23.5°F on day 01 at time 22:31</td>\n",
       "      <td>94% on day 01 at time 00:00</td>\n",
       "      <td>64% on day 01 at time 12:41</td>\n",
       "      <td>29.747 in. on day 01 at time 20:01</td>\n",
       "      <td>29.612 in. on day 01 at time 01:09</td>\n",
       "      <td>12.7 mph on day 01 at time 14:58</td>\n",
       "      <td>16.1 mph  from 029 °(NNE) on day 01 at time 1...</td>\n",
       "      <td>36.1°F on day 01 at time 12:51</td>\n",
       "    </tr>\n",
       "    <tr>\n",
       "      <th>1</th>\n",
       "      <td>1</td>\n",
       "      <td>Jan 2</td>\n",
       "      <td>20.4</td>\n",
       "      <td>92.0</td>\n",
       "      <td>18.5</td>\n",
       "      <td>29.7</td>\n",
       "      <td>2.1</td>\n",
       "      <td>3.4</td>\n",
       "      <td>68° (ENE)</td>\n",
       "      <td>0.09 in.</td>\n",
       "      <td>...</td>\n",
       "      <td>0.00 in. on day 02 at time 23:59</td>\n",
       "      <td>23.8°F on day 02 at time 01:35</td>\n",
       "      <td>17.3°F on day 02 at time 23:56</td>\n",
       "      <td>94% on day 02 at time 01:04</td>\n",
       "      <td>90% on day 02 at time 23:59</td>\n",
       "      <td>29.806 in. on day 02 at time 23:57</td>\n",
       "      <td>29.654 in. on day 02 at time 08:24</td>\n",
       "      <td>5.8 mph on day 02 at time 23:31</td>\n",
       "      <td>10.4 mph  from 081 °( E ) on day 02 at time 2...</td>\n",
       "      <td>23.8°F on day 02 at time 01:35</td>\n",
       "    </tr>\n",
       "    <tr>\n",
       "      <th>2</th>\n",
       "      <td>2</td>\n",
       "      <td>Jan 3</td>\n",
       "      <td>21.8</td>\n",
       "      <td>68.0</td>\n",
       "      <td>12.1</td>\n",
       "      <td>29.8</td>\n",
       "      <td>6.1</td>\n",
       "      <td>9.2</td>\n",
       "      <td>267° ( W )</td>\n",
       "      <td>0.15 in.</td>\n",
       "      <td>...</td>\n",
       "      <td>0.01 in. on day 03 at time 11:51</td>\n",
       "      <td>31.2°F on day 03 at time 11:44</td>\n",
       "      <td>11.3°F on day 03 at time 07:53</td>\n",
       "      <td>91% on day 03 at time 08:08</td>\n",
       "      <td>48% on day 03 at time 23:57</td>\n",
       "      <td>29.871 in. on day 03 at time 23:49</td>\n",
       "      <td>29.772 in. on day 03 at time 11:15</td>\n",
       "      <td>18.4 mph on day 03 at time 20:23</td>\n",
       "      <td>28.8 mph  from 267 °( W ) on day 03 at time 2...</td>\n",
       "      <td>31.2°F on day 03 at time 11:44</td>\n",
       "    </tr>\n",
       "    <tr>\n",
       "      <th>3</th>\n",
       "      <td>3</td>\n",
       "      <td>Jan 4</td>\n",
       "      <td>23.1</td>\n",
       "      <td>46.0</td>\n",
       "      <td>5.4</td>\n",
       "      <td>30.0</td>\n",
       "      <td>16.0</td>\n",
       "      <td>23.5</td>\n",
       "      <td>258° (WSW)</td>\n",
       "      <td>0.15 in.</td>\n",
       "      <td>...</td>\n",
       "      <td>0.00 in. on day 04 at time 23:59</td>\n",
       "      <td>27.2°F on day 04 at time 14:06</td>\n",
       "      <td>19.8°F on day 04 at time 07:34</td>\n",
       "      <td>53% on day 04 at time 11:47</td>\n",
       "      <td>34% on day 04 at time 14:18</td>\n",
       "      <td>30.175 in. on day 04 at time 23:14</td>\n",
       "      <td>29.831 in. on day 04 at time 06:30</td>\n",
       "      <td>28.8 mph on day 04 at time 11:48</td>\n",
       "      <td>41.4 mph  from 172 °( S ) on day 04 at time 1...</td>\n",
       "      <td>27.2°F on day 04 at time 14:06</td>\n",
       "    </tr>\n",
       "    <tr>\n",
       "      <th>4</th>\n",
       "      <td>4</td>\n",
       "      <td>Jan 5</td>\n",
       "      <td>33.3</td>\n",
       "      <td>39.0</td>\n",
       "      <td>10.7</td>\n",
       "      <td>30.0</td>\n",
       "      <td>10.7</td>\n",
       "      <td>15.0</td>\n",
       "      <td>248° (WSW)</td>\n",
       "      <td>0.15 in.</td>\n",
       "      <td>...</td>\n",
       "      <td>0.00 in. on day 05 at time 23:59</td>\n",
       "      <td>41.4°F on day 05 at time 13:42</td>\n",
       "      <td>19.5°F on day 05 at time 05:55</td>\n",
       "      <td>57% on day 05 at time 09:29</td>\n",
       "      <td>27% on day 05 at time 23:00</td>\n",
       "      <td>30.163 in. on day 05 at time 00:03</td>\n",
       "      <td>29.830 in. on day 05 at time 22:43</td>\n",
       "      <td>21.9 mph on day 05 at time 19:28</td>\n",
       "      <td>31.1 mph  from 267 °( W ) on day 05 at time 2...</td>\n",
       "      <td>41.4°F on day 05 at time 13:42</td>\n",
       "    </tr>\n",
       "  </tbody>\n",
       "</table>\n",
       "<p>5 rows × 21 columns</p>\n",
       "</div>"
      ],
      "text/plain": [
       "   Unnamed: 0 Average and Extremes  Average temperature  Average humidity  \\\n",
       "0           0               Jan 1                  28.5              83.0   \n",
       "1           1               Jan 2                  20.4              92.0   \n",
       "2           2               Jan 3                  21.8              68.0   \n",
       "3           3               Jan 4                  23.1              46.0   \n",
       "4           4               Jan 5                  33.3              39.0   \n",
       "\n",
       "   Average dewpoint  Average barometer  Average windspeed  Average gustspeed  \\\n",
       "0              23.9               29.7                3.0                5.0   \n",
       "1              18.5               29.7                2.1                3.4   \n",
       "2              12.1               29.8                6.1                9.2   \n",
       "3               5.4               30.0               16.0               23.5   \n",
       "4              10.7               30.0               10.7               15.0   \n",
       "\n",
       "  Average direction Rainfall for month  ...  \\\n",
       "0         76° (ENE)           0.09 in.  ...   \n",
       "1         68° (ENE)           0.09 in.  ...   \n",
       "2        267° ( W )           0.15 in.  ...   \n",
       "3        258° (WSW)           0.15 in.  ...   \n",
       "4        248° (WSW)           0.15 in.  ...   \n",
       "\n",
       "             Maximum rain per minute              Maximum temperature  \\\n",
       "0   0.01 in. on day 01 at time 12:49   36.1°F on day 01 at time 12:51   \n",
       "1   0.00 in. on day 02 at time 23:59   23.8°F on day 02 at time 01:35   \n",
       "2   0.01 in. on day 03 at time 11:51   31.2°F on day 03 at time 11:44   \n",
       "3   0.00 in. on day 04 at time 23:59   27.2°F on day 04 at time 14:06   \n",
       "4   0.00 in. on day 05 at time 23:59   41.4°F on day 05 at time 13:42   \n",
       "\n",
       "               Minimum temperature              Maximum humidity  \\\n",
       "0   23.5°F on day 01 at time 22:31   94% on day 01 at time 00:00   \n",
       "1   17.3°F on day 02 at time 23:56   94% on day 02 at time 01:04   \n",
       "2   11.3°F on day 03 at time 07:53   91% on day 03 at time 08:08   \n",
       "3   19.8°F on day 04 at time 07:34   53% on day 04 at time 11:47   \n",
       "4   19.5°F on day 05 at time 05:55   57% on day 05 at time 09:29   \n",
       "\n",
       "               Minimum humidity                     Maximum pressure  \\\n",
       "0   64% on day 01 at time 12:41   29.747 in. on day 01 at time 20:01   \n",
       "1   90% on day 02 at time 23:59   29.806 in. on day 02 at time 23:57   \n",
       "2   48% on day 03 at time 23:57   29.871 in. on day 03 at time 23:49   \n",
       "3   34% on day 04 at time 14:18   30.175 in. on day 04 at time 23:14   \n",
       "4   27% on day 05 at time 23:00   30.163 in. on day 05 at time 00:03   \n",
       "\n",
       "                      Minimum pressure                  Maximum windspeed  \\\n",
       "0   29.612 in. on day 01 at time 01:09   12.7 mph on day 01 at time 14:58   \n",
       "1   29.654 in. on day 02 at time 08:24    5.8 mph on day 02 at time 23:31   \n",
       "2   29.772 in. on day 03 at time 11:15   18.4 mph on day 03 at time 20:23   \n",
       "3   29.831 in. on day 04 at time 06:30   28.8 mph on day 04 at time 11:48   \n",
       "4   29.830 in. on day 05 at time 22:43   21.9 mph on day 05 at time 19:28   \n",
       "\n",
       "                                  Maximum gust speed  \\\n",
       "0   16.1 mph  from 029 °(NNE) on day 01 at time 1...   \n",
       "1   10.4 mph  from 081 °( E ) on day 02 at time 2...   \n",
       "2   28.8 mph  from 267 °( W ) on day 03 at time 2...   \n",
       "3   41.4 mph  from 172 °( S ) on day 04 at time 1...   \n",
       "4   31.1 mph  from 267 °( W ) on day 05 at time 2...   \n",
       "\n",
       "                Maximum heat index  \n",
       "0   36.1°F on day 01 at time 12:51  \n",
       "1   23.8°F on day 02 at time 01:35  \n",
       "2   31.2°F on day 03 at time 11:44  \n",
       "3   27.2°F on day 04 at time 14:06  \n",
       "4   41.4°F on day 05 at time 13:42  \n",
       "\n",
       "[5 rows x 21 columns]"
      ]
     },
     "execution_count": 125,
     "metadata": {},
     "output_type": "execute_result"
    }
   ],
   "source": [
    "estes_park_df.head()"
   ]
  },
  {
   "cell_type": "markdown",
   "id": "d76f4167",
   "metadata": {},
   "source": [
    "## 1.1. What kind of variables do we have?\n",
    "\n",
    "Check the output from the info method above. There are two kinds of columns (variables)\n",
    "\n",
    "- Numerical (int, float): Average temperature, Average humidity, Average dewpoint, ...\n",
    "- Categorical (strings): Date"
   ]
  },
  {
   "cell_type": "markdown",
   "id": "ad0b257f",
   "metadata": {},
   "source": [
    "## 2. Print column names and access column data?\n",
    "Say you want the average_temperature column as a list type object "
   ]
  },
  {
   "cell_type": "code",
   "execution_count": 126,
   "id": "7cc1cc45",
   "metadata": {},
   "outputs": [
    {
     "name": "stdout",
     "output_type": "stream",
     "text": [
      "Index(['Unnamed: 0', 'Average and Extremes', 'Average temperature',\n",
      "       'Average humidity', 'Average dewpoint', 'Average barometer',\n",
      "       'Average windspeed', 'Average gustspeed', 'Average direction',\n",
      "       'Rainfall for month', 'Rainfall for year', 'Maximum rain per minute',\n",
      "       'Maximum temperature', 'Minimum temperature', 'Maximum humidity',\n",
      "       'Minimum humidity', 'Maximum pressure', 'Minimum pressure',\n",
      "       'Maximum windspeed', 'Maximum gust speed', 'Maximum heat index'],\n",
      "      dtype='object')\n",
      "0     28.5\n",
      "1     20.4\n",
      "2     21.8\n",
      "3     23.1\n",
      "4     33.3\n",
      "5     34.2\n",
      "6     32.3\n",
      "7     35.4\n",
      "8     36.0\n",
      "9     38.1\n",
      "10    30.3\n",
      "11    32.5\n",
      "12    42.9\n",
      "13    42.9\n",
      "14    31.1\n",
      "15    30.7\n",
      "16    22.6\n",
      "17    20.7\n",
      "18    22.9\n",
      "19    14.4\n",
      "20    13.7\n",
      "21    22.1\n",
      "22    20.2\n",
      "23    19.9\n",
      "24    17.6\n",
      "25    20.8\n",
      "26    26.8\n",
      "27    21.0\n",
      "28    -0.8\n",
      "29    -0.1\n",
      "30    16.6\n",
      "31    24.9\n",
      "Name: Average temperature, dtype: float64\n"
     ]
    }
   ],
   "source": [
    "column_names = estes_park_df.columns\n",
    "print (column_names)\n",
    "\n",
    "average_temperature = estes_park_df[\"Average temperature\"]\n",
    "print (average_temperature)\n"
   ]
  },
  {
   "cell_type": "markdown",
   "id": "9f9f03da",
   "metadata": {},
   "source": [
    "## 3. Descriptive Stats using df.describe() method"
   ]
  },
  {
   "cell_type": "code",
   "execution_count": 127,
   "id": "24b58b37",
   "metadata": {
    "scrolled": true
   },
   "outputs": [
    {
     "data": {
      "text/plain": [
       "count    32.000000\n",
       "mean     24.900000\n",
       "std      10.212927\n",
       "min      -0.800000\n",
       "25%      20.350000\n",
       "50%      23.000000\n",
       "75%      32.350000\n",
       "max      42.900000\n",
       "Name: Average temperature, dtype: float64"
      ]
     },
     "execution_count": 127,
     "metadata": {},
     "output_type": "execute_result"
    }
   ],
   "source": [
    "average_temperature.describe()"
   ]
  },
  {
   "cell_type": "markdown",
   "id": "aaddbf4c",
   "metadata": {},
   "source": [
    "**Insights:**\n",
    "The range of the temperature is: [-0.8, 42.9]. Also, the mean temperature is below freezing point (~25F) on an average with a standard deviation of 10.21F. Estes Park was  generally cold during the month of January 2023. "
   ]
  },
  {
   "cell_type": "markdown",
   "id": "61c31376",
   "metadata": {},
   "source": [
    "### 3.1. Frequency plot using df.hist() method\n",
    "\n",
    "Pandas DataFrames already provide a plotting function that can bin our data into frequency buckets and then plot frequencies. Frequency plots are called **histograms**."
   ]
  },
  {
   "cell_type": "code",
   "execution_count": 128,
   "id": "160e287c",
   "metadata": {
    "scrolled": true
   },
   "outputs": [
    {
     "data": {
      "text/plain": [
       "<AxesSubplot:>"
      ]
     },
     "execution_count": 128,
     "metadata": {},
     "output_type": "execute_result"
    },
    {
     "data": {
      "image/png": "[encoded data removed]",
      "text/plain": [
       "<Figure size 640x480 with 1 Axes>"
      ]
     },
     "metadata": {},
     "output_type": "display_data"
    }
   ],
   "source": [
    "average_temperature.hist(bins=10)"
   ]
  },
  {
   "cell_type": "markdown",
   "id": "cc43de10",
   "metadata": {},
   "source": [
    "#### 3.1.1 What does the histogram represent?\n",
    "\n",
    "On x-axis, we have the values of temperature binned into 10 bins. Based on the range i.e., [-0.8, 42.9] and the bin size of 10, the bins are:\n",
    "\n",
    "- bin1: [-0.8,3.57]\n",
    "- bin2: [3.58,7.94]\n",
    "- ...\n",
    "- bin10: [38.53,42.9]\n",
    "\n",
    "The y-axis represents number of times temperature values fall under a certain bin (i.e., frequency). E.g., *bin1* has 2 temperature values. *bin9* has 4 values. \n",
    "\n",
    "Let's try and keep the binsize same as the number of rows"
   ]
  },
  {
   "cell_type": "code",
   "execution_count": 129,
   "id": "dbf79036",
   "metadata": {
    "scrolled": true
   },
   "outputs": [
    {
     "data": {
      "text/plain": [
       "<AxesSubplot:>"
      ]
     },
     "execution_count": 129,
     "metadata": {},
     "output_type": "execute_result"
    },
    {
     "data": {
      "image/png": "[encoded data removed]",
      "text/plain": [
       "<Figure size 640x480 with 1 Axes>"
      ]
     },
     "metadata": {},
     "output_type": "display_data"
    }
   ],
   "source": [
    "average_temperature.hist(bins=len(average_temperature))"
   ]
  },
  {
   "cell_type": "markdown",
   "id": "96606076",
   "metadata": {},
   "source": [
    "Try some other values?"
   ]
  },
  {
   "cell_type": "code",
   "execution_count": 130,
   "id": "5e51370d",
   "metadata": {
    "scrolled": true
   },
   "outputs": [
    {
     "data": {
      "text/plain": [
       "<AxesSubplot:>"
      ]
     },
     "execution_count": 130,
     "metadata": {},
     "output_type": "execute_result"
    },
    {
     "data": {
      "image/png": "[encoded data removed]",
      "text/plain": [
       "<Figure size 640x480 with 1 Axes>"
      ]
     },
     "metadata": {},
     "output_type": "display_data"
    }
   ],
   "source": [
    "average_temperature.hist(bins=5)"
   ]
  },
  {
   "cell_type": "markdown",
   "id": "97ccb6e1",
   "metadata": {},
   "source": [
    "Looks somewhat like a bell curve? Let's revisit the empirical rules we came across in the lecture. "
   ]
  },
  {
   "cell_type": "markdown",
   "id": "ad08fbbd",
   "metadata": {},
   "source": [
    "If you plot your data based on frequency and it looks \"normal\" \n",
    "- about 68% of data within 1 standard dev. of mean\n",
    "- about 95% of data within 2 standard dev. of mean\n",
    "- all or nearly all data within 3 standard dev. of mean\n",
    "\n",
    "**Insights:** In our case `mean + 2*stdev ~ 44F` which represents the fact that ~68% of the time we will have temperature less than 44F. So we can confidently say that on any day in the month of January 2023, if we planned a visit to Estes Park, we would have had to do a lot of winter prep. "
   ]
  },
  {
   "cell_type": "markdown",
   "id": "457626f9",
   "metadata": {},
   "source": [
    "## E1. Exercise: Describe and Plot Histogram for \"Average humidity\""
   ]
  },
  {
   "cell_type": "markdown",
   "id": "280e56dd",
   "metadata": {},
   "source": [
    "What Can you try different bin sizes for the histogram? What insights do you get?"
   ]
  },
  {
   "cell_type": "code",
   "execution_count": 131,
   "id": "bb22e43b",
   "metadata": {
    "scrolled": false
   },
   "outputs": [
    {
     "name": "stdout",
     "output_type": "stream",
     "text": [
      "<class 'pandas.core.frame.DataFrame'>\n",
      "RangeIndex: 32 entries, 0 to 31\n",
      "Data columns (total 21 columns):\n",
      " #   Column                   Non-Null Count  Dtype  \n",
      "---  ------                   --------------  -----  \n",
      " 0   Unnamed: 0               32 non-null     int64  \n",
      " 1   Average and Extremes     32 non-null     object \n",
      " 2   Average temperature      32 non-null     float64\n",
      " 3   Average humidity         32 non-null     float64\n",
      " 4   Average dewpoint         32 non-null     float64\n",
      " 5   Average barometer        32 non-null     float64\n",
      " 6   Average windspeed        32 non-null     float64\n",
      " 7   Average gustspeed        32 non-null     float64\n",
      " 8   Average direction        32 non-null     object \n",
      " 9   Rainfall for month       32 non-null     object \n",
      " 10  Rainfall for year        32 non-null     object \n",
      " 11  Maximum rain per minute  32 non-null     object \n",
      " 12  Maximum temperature      32 non-null     object \n",
      " 13  Minimum temperature      32 non-null     object \n",
      " 14  Maximum humidity         32 non-null     object \n",
      " 15  Minimum humidity         32 non-null     object \n",
      " 16  Maximum pressure         32 non-null     object \n",
      " 17  Minimum pressure         32 non-null     object \n",
      " 18  Maximum windspeed        32 non-null     object \n",
      " 19  Maximum gust speed       32 non-null     object \n",
      " 20  Maximum heat index       32 non-null     object \n",
      "dtypes: float64(6), int64(1), object(14)\n",
      "memory usage: 5.4+ KB\n"
     ]
    },
    {
     "data": {
      "text/html": [
       "<div>\n",
       "<style scoped>\n",
       "    .dataframe tbody tr th:only-of-type {\n",
       "        vertical-align: middle;\n",
       "    }\n",
       "\n",
       "    .dataframe tbody tr th {\n",
       "        vertical-align: top;\n",
       "    }\n",
       "\n",
       "    .dataframe thead th {\n",
       "        text-align: right;\n",
       "    }\n",
       "</style>\n",
       "<table border=\"1\" class=\"dataframe\">\n",
       "  <thead>\n",
       "    <tr style=\"text-align: right;\">\n",
       "      <th></th>\n",
       "      <th>Unnamed: 0</th>\n",
       "      <th>Average and Extremes</th>\n",
       "      <th>Average temperature</th>\n",
       "      <th>Average humidity</th>\n",
       "      <th>Average dewpoint</th>\n",
       "      <th>Average barometer</th>\n",
       "      <th>Average windspeed</th>\n",
       "      <th>Average gustspeed</th>\n",
       "      <th>Average direction</th>\n",
       "      <th>Rainfall for month</th>\n",
       "      <th>...</th>\n",
       "      <th>Maximum rain per minute</th>\n",
       "      <th>Maximum temperature</th>\n",
       "      <th>Minimum temperature</th>\n",
       "      <th>Maximum humidity</th>\n",
       "      <th>Minimum humidity</th>\n",
       "      <th>Maximum pressure</th>\n",
       "      <th>Minimum pressure</th>\n",
       "      <th>Maximum windspeed</th>\n",
       "      <th>Maximum gust speed</th>\n",
       "      <th>Maximum heat index</th>\n",
       "    </tr>\n",
       "  </thead>\n",
       "  <tbody>\n",
       "    <tr>\n",
       "      <th>0</th>\n",
       "      <td>0</td>\n",
       "      <td>Jan 1</td>\n",
       "      <td>28.5</td>\n",
       "      <td>83.0</td>\n",
       "      <td>23.9</td>\n",
       "      <td>29.7</td>\n",
       "      <td>3.0</td>\n",
       "      <td>5.0</td>\n",
       "      <td>76° (ENE)</td>\n",
       "      <td>0.09 in.</td>\n",
       "      <td>...</td>\n",
       "      <td>0.01 in. on day 01 at time 12:49</td>\n",
       "      <td>36.1°F on day 01 at time 12:51</td>\n",
       "      <td>23.5°F on day 01 at time 22:31</td>\n",
       "      <td>94% on day 01 at time 00:00</td>\n",
       "      <td>64% on day 01 at time 12:41</td>\n",
       "      <td>29.747 in. on day 01 at time 20:01</td>\n",
       "      <td>29.612 in. on day 01 at time 01:09</td>\n",
       "      <td>12.7 mph on day 01 at time 14:58</td>\n",
       "      <td>16.1 mph  from 029 °(NNE) on day 01 at time 1...</td>\n",
       "      <td>36.1°F on day 01 at time 12:51</td>\n",
       "    </tr>\n",
       "    <tr>\n",
       "      <th>1</th>\n",
       "      <td>1</td>\n",
       "      <td>Jan 2</td>\n",
       "      <td>20.4</td>\n",
       "      <td>92.0</td>\n",
       "      <td>18.5</td>\n",
       "      <td>29.7</td>\n",
       "      <td>2.1</td>\n",
       "      <td>3.4</td>\n",
       "      <td>68° (ENE)</td>\n",
       "      <td>0.09 in.</td>\n",
       "      <td>...</td>\n",
       "      <td>0.00 in. on day 02 at time 23:59</td>\n",
       "      <td>23.8°F on day 02 at time 01:35</td>\n",
       "      <td>17.3°F on day 02 at time 23:56</td>\n",
       "      <td>94% on day 02 at time 01:04</td>\n",
       "      <td>90% on day 02 at time 23:59</td>\n",
       "      <td>29.806 in. on day 02 at time 23:57</td>\n",
       "      <td>29.654 in. on day 02 at time 08:24</td>\n",
       "      <td>5.8 mph on day 02 at time 23:31</td>\n",
       "      <td>10.4 mph  from 081 °( E ) on day 02 at time 2...</td>\n",
       "      <td>23.8°F on day 02 at time 01:35</td>\n",
       "    </tr>\n",
       "    <tr>\n",
       "      <th>2</th>\n",
       "      <td>2</td>\n",
       "      <td>Jan 3</td>\n",
       "      <td>21.8</td>\n",
       "      <td>68.0</td>\n",
       "      <td>12.1</td>\n",
       "      <td>29.8</td>\n",
       "      <td>6.1</td>\n",
       "      <td>9.2</td>\n",
       "      <td>267° ( W )</td>\n",
       "      <td>0.15 in.</td>\n",
       "      <td>...</td>\n",
       "      <td>0.01 in. on day 03 at time 11:51</td>\n",
       "      <td>31.2°F on day 03 at time 11:44</td>\n",
       "      <td>11.3°F on day 03 at time 07:53</td>\n",
       "      <td>91% on day 03 at time 08:08</td>\n",
       "      <td>48% on day 03 at time 23:57</td>\n",
       "      <td>29.871 in. on day 03 at time 23:49</td>\n",
       "      <td>29.772 in. on day 03 at time 11:15</td>\n",
       "      <td>18.4 mph on day 03 at time 20:23</td>\n",
       "      <td>28.8 mph  from 267 °( W ) on day 03 at time 2...</td>\n",
       "      <td>31.2°F on day 03 at time 11:44</td>\n",
       "    </tr>\n",
       "    <tr>\n",
       "      <th>3</th>\n",
       "      <td>3</td>\n",
       "      <td>Jan 4</td>\n",
       "      <td>23.1</td>\n",
       "      <td>46.0</td>\n",
       "      <td>5.4</td>\n",
       "      <td>30.0</td>\n",
       "      <td>16.0</td>\n",
       "      <td>23.5</td>\n",
       "      <td>258° (WSW)</td>\n",
       "      <td>0.15 in.</td>\n",
       "      <td>...</td>\n",
       "      <td>0.00 in. on day 04 at time 23:59</td>\n",
       "      <td>27.2°F on day 04 at time 14:06</td>\n",
       "      <td>19.8°F on day 04 at time 07:34</td>\n",
       "      <td>53% on day 04 at time 11:47</td>\n",
       "      <td>34% on day 04 at time 14:18</td>\n",
       "      <td>30.175 in. on day 04 at time 23:14</td>\n",
       "      <td>29.831 in. on day 04 at time 06:30</td>\n",
       "      <td>28.8 mph on day 04 at time 11:48</td>\n",
       "      <td>41.4 mph  from 172 °( S ) on day 04 at time 1...</td>\n",
       "      <td>27.2°F on day 04 at time 14:06</td>\n",
       "    </tr>\n",
       "    <tr>\n",
       "      <th>4</th>\n",
       "      <td>4</td>\n",
       "      <td>Jan 5</td>\n",
       "      <td>33.3</td>\n",
       "      <td>39.0</td>\n",
       "      <td>10.7</td>\n",
       "      <td>30.0</td>\n",
       "      <td>10.7</td>\n",
       "      <td>15.0</td>\n",
       "      <td>248° (WSW)</td>\n",
       "      <td>0.15 in.</td>\n",
       "      <td>...</td>\n",
       "      <td>0.00 in. on day 05 at time 23:59</td>\n",
       "      <td>41.4°F on day 05 at time 13:42</td>\n",
       "      <td>19.5°F on day 05 at time 05:55</td>\n",
       "      <td>57% on day 05 at time 09:29</td>\n",
       "      <td>27% on day 05 at time 23:00</td>\n",
       "      <td>30.163 in. on day 05 at time 00:03</td>\n",
       "      <td>29.830 in. on day 05 at time 22:43</td>\n",
       "      <td>21.9 mph on day 05 at time 19:28</td>\n",
       "      <td>31.1 mph  from 267 °( W ) on day 05 at time 2...</td>\n",
       "      <td>41.4°F on day 05 at time 13:42</td>\n",
       "    </tr>\n",
       "  </tbody>\n",
       "</table>\n",
       "<p>5 rows × 21 columns</p>\n",
       "</div>"
      ],
      "text/plain": [
       "   Unnamed: 0 Average and Extremes  Average temperature  Average humidity  \\\n",
       "0           0               Jan 1                  28.5              83.0   \n",
       "1           1               Jan 2                  20.4              92.0   \n",
       "2           2               Jan 3                  21.8              68.0   \n",
       "3           3               Jan 4                  23.1              46.0   \n",
       "4           4               Jan 5                  33.3              39.0   \n",
       "\n",
       "   Average dewpoint  Average barometer  Average windspeed  Average gustspeed  \\\n",
       "0              23.9               29.7                3.0                5.0   \n",
       "1              18.5               29.7                2.1                3.4   \n",
       "2              12.1               29.8                6.1                9.2   \n",
       "3               5.4               30.0               16.0               23.5   \n",
       "4              10.7               30.0               10.7               15.0   \n",
       "\n",
       "  Average direction Rainfall for month  ...  \\\n",
       "0         76° (ENE)           0.09 in.  ...   \n",
       "1         68° (ENE)           0.09 in.  ...   \n",
       "2        267° ( W )           0.15 in.  ...   \n",
       "3        258° (WSW)           0.15 in.  ...   \n",
       "4        248° (WSW)           0.15 in.  ...   \n",
       "\n",
       "             Maximum rain per minute              Maximum temperature  \\\n",
       "0   0.01 in. on day 01 at time 12:49   36.1°F on day 01 at time 12:51   \n",
       "1   0.00 in. on day 02 at time 23:59   23.8°F on day 02 at time 01:35   \n",
       "2   0.01 in. on day 03 at time 11:51   31.2°F on day 03 at time 11:44   \n",
       "3   0.00 in. on day 04 at time 23:59   27.2°F on day 04 at time 14:06   \n",
       "4   0.00 in. on day 05 at time 23:59   41.4°F on day 05 at time 13:42   \n",
       "\n",
       "               Minimum temperature              Maximum humidity  \\\n",
       "0   23.5°F on day 01 at time 22:31   94% on day 01 at time 00:00   \n",
       "1   17.3°F on day 02 at time 23:56   94% on day 02 at time 01:04   \n",
       "2   11.3°F on day 03 at time 07:53   91% on day 03 at time 08:08   \n",
       "3   19.8°F on day 04 at time 07:34   53% on day 04 at time 11:47   \n",
       "4   19.5°F on day 05 at time 05:55   57% on day 05 at time 09:29   \n",
       "\n",
       "               Minimum humidity                     Maximum pressure  \\\n",
       "0   64% on day 01 at time 12:41   29.747 in. on day 01 at time 20:01   \n",
       "1   90% on day 02 at time 23:59   29.806 in. on day 02 at time 23:57   \n",
       "2   48% on day 03 at time 23:57   29.871 in. on day 03 at time 23:49   \n",
       "3   34% on day 04 at time 14:18   30.175 in. on day 04 at time 23:14   \n",
       "4   27% on day 05 at time 23:00   30.163 in. on day 05 at time 00:03   \n",
       "\n",
       "                      Minimum pressure                  Maximum windspeed  \\\n",
       "0   29.612 in. on day 01 at time 01:09   12.7 mph on day 01 at time 14:58   \n",
       "1   29.654 in. on day 02 at time 08:24    5.8 mph on day 02 at time 23:31   \n",
       "2   29.772 in. on day 03 at time 11:15   18.4 mph on day 03 at time 20:23   \n",
       "3   29.831 in. on day 04 at time 06:30   28.8 mph on day 04 at time 11:48   \n",
       "4   29.830 in. on day 05 at time 22:43   21.9 mph on day 05 at time 19:28   \n",
       "\n",
       "                                  Maximum gust speed  \\\n",
       "0   16.1 mph  from 029 °(NNE) on day 01 at time 1...   \n",
       "1   10.4 mph  from 081 °( E ) on day 02 at time 2...   \n",
       "2   28.8 mph  from 267 °( W ) on day 03 at time 2...   \n",
       "3   41.4 mph  from 172 °( S ) on day 04 at time 1...   \n",
       "4   31.1 mph  from 267 °( W ) on day 05 at time 2...   \n",
       "\n",
       "                Maximum heat index  \n",
       "0   36.1°F on day 01 at time 12:51  \n",
       "1   23.8°F on day 02 at time 01:35  \n",
       "2   31.2°F on day 03 at time 11:44  \n",
       "3   27.2°F on day 04 at time 14:06  \n",
       "4   41.4°F on day 05 at time 13:42  \n",
       "\n",
       "[5 rows x 21 columns]"
      ]
     },
     "execution_count": 131,
     "metadata": {},
     "output_type": "execute_result"
    },
    {
     "name": "stdout",
     "output_type": "stream",
     "text": [
      "Index(['Unnamed: 0', 'Average and Extremes', 'Average temperature',\n",
      "       'Average humidity', 'Average dewpoint', 'Average barometer',\n",
      "       'Average windspeed', 'Average gustspeed', 'Average direction',\n",
      "       'Rainfall for month', 'Rainfall for year', 'Maximum rain per minute',\n",
      "       'Maximum temperature', 'Minimum temperature', 'Maximum humidity',\n",
      "       'Minimum humidity', 'Maximum pressure', 'Minimum pressure',\n",
      "       'Maximum windspeed', 'Maximum gust speed', 'Maximum heat index'],\n",
      "      dtype='object')\n",
      "0     83.0\n",
      "1     92.0\n",
      "2     68.0\n",
      "3     46.0\n",
      "4     39.0\n",
      "5     50.0\n",
      "6     46.0\n",
      "7     31.0\n",
      "8     47.0\n",
      "9     60.0\n",
      "10    65.0\n",
      "11    42.0\n",
      "12    41.0\n",
      "13    38.0\n",
      "14    70.0\n",
      "15    51.0\n",
      "16    78.0\n",
      "17    75.0\n",
      "18    45.0\n",
      "19    73.0\n",
      "20    70.0\n",
      "21    62.0\n",
      "22    82.0\n",
      "23    63.0\n",
      "24    48.0\n",
      "25    44.0\n",
      "26    55.0\n",
      "27    69.0\n",
      "28    80.0\n",
      "29    82.0\n",
      "30    42.0\n",
      "31    59.0\n",
      "Name: Average humidity, dtype: float64\n"
     ]
    },
    {
     "data": {
      "text/plain": [
       "count    32.00000\n",
       "mean     59.25000\n",
       "std      16.23616\n",
       "min      31.00000\n",
       "25%      45.75000\n",
       "50%      59.50000\n",
       "75%      70.75000\n",
       "max      92.00000\n",
       "Name: Average humidity, dtype: float64"
      ]
     },
     "execution_count": 131,
     "metadata": {},
     "output_type": "execute_result"
    },
    {
     "data": {
      "text/plain": [
       "<AxesSubplot:>"
      ]
     },
     "execution_count": 131,
     "metadata": {},
     "output_type": "execute_result"
    },
    {
     "data": {
      "image/png": "[encoded data removed]",
      "text/plain": [
       "<Figure size 640x480 with 1 Axes>"
      ]
     },
     "metadata": {},
     "output_type": "display_data"
    }
   ],
   "source": [
    "from IPython.core.interactiveshell import InteractiveShell\n",
    "InteractiveShell.ast_node_interactivity = \"all\"\n",
    "\n",
    "estes_park_df = pd.read_csv(\"EstesPark_Weather_January_2023.csv\")\n",
    "estes_park_df.info()\n",
    "\n",
    "# Printing a few rows\n",
    "estes_park_df.head()\n",
    "\n",
    "# Print Column Names & Access column data for 'average humidity'\n",
    "column_names = estes_park_df.columns\n",
    "print (column_names)\n",
    "\n",
    "average_humidity = estes_park_df[\"Average humidity\"]\n",
    "print (average_humidity)\n",
    "\n",
    "# Descriptive Statistics using df.describe() method\n",
    "# Write out insights based on range [x,x], mean w/ SD, overall conclusion abt the humidity\n",
    "average_humidity.describe()\n",
    "\n",
    "# Frequency plot using df.hist() method --> \"Frequency Plot\" = histograms\n",
    "# Histograms bin our data into frequency buckets and then plot frequencies; y-axis represents frequency\n",
    "average_humidity.hist(bins=len(average_humidity))\n",
    "\n",
    "# Note: Other bin sizes tried are commented out below.  \n",
    "# average_humidity.hist(bins=5) \n",
    "# average_humidity.hist(bins=10) \n",
    "# average_humidity.hist(bins=3) \n"
   ]
  },
  {
   "cell_type": "markdown",
   "id": "15d7b0d8",
   "metadata": {},
   "source": [
    "The range of the January 2023 humidity in Estes Park is: [31.00,92.00]. The mean humidity is 59.25% on an average with a standard deviation of 16.23%, demonstrating quite a bit of variability in the humidity throughout the month. 50% of the days fell between 24.75% and 70.75%. The median humidity level was 59.5%. \n",
    "\n",
    "To illustrate the humidity levels further, I have produced a histogram, or 'frequency plot', that illustrates the frequency of the various levels of humidity that occured throughout the month of January 2023. According to the empirical rule, 68% of the humidity levels fall between 43.01% and 75.49%. Given this is such a wide range, visitors to Estes Park should be prepared for both dry and high levels of humidity. For most people, the humidity level considered comfortable is between 30-50%. \n",
    "\n",
    "First, I produced a histogram with bins the same as the number of rows, 31. This gave a rather varying result with multiple peaks, making it hard for the reader to understand the January humidity levels trend. When I reduced the number of bins to 10, it was easier to understand the peaks and lows of humidity levels within the park and what the min/max humidity levels in January were. With a bin size of 10, 43-49% humidity was the most frequent occurence (count of 6). This is an ideal humidity level for visitors. Two bins tied with a frequency of 5: the first between 37-42% and the second between 68-73%. As one may note, the latter would be pretty uncomfortable conditions to visit the park. When I reduced the bin size to 5, 43-55% was most frequent with a count of 7 days or so. While this is on the higher side of comfortable humidity levels, it is not as extreme as the maximum level reached at 92%. \n",
    "\n",
    "Based on the January 2023 data, visitors to the park should generally speaking be prepared for mild-higher levels of humidity in the coming weeks. "
   ]
  },
  {
   "cell_type": "markdown",
   "id": "8c969535",
   "metadata": {},
   "source": [
    "## 3.2. Bivariate Analysis\n",
    "We are going to study the association between two columns (i.e., two variables). For this we compute the Pearson correlction coefficient between two variables. \n",
    "\n",
    "Let's say our two variables of choice are (a) Average windspeed and (b) Average gustspeed."
   ]
  },
  {
   "cell_type": "code",
   "execution_count": 132,
   "id": "c2b10b7e",
   "metadata": {
    "scrolled": true
   },
   "outputs": [
    {
     "name": "stdout",
     "output_type": "stream",
     "text": [
      "0.9986067307768813\n"
     ]
    }
   ],
   "source": [
    "from scipy.stats import pearsonr\n",
    "\n",
    "p = pearsonr(estes_park_df[\"Average windspeed\"],estes_park_df[\"Average gustspeed\"])\n",
    "print (p[0])"
   ]
  },
  {
   "cell_type": "markdown",
   "id": "07cb2426",
   "metadata": {},
   "source": [
    "**Insight:** The first value above represents the corelation coefficient, whcih is ~**0.998**. This means windspeed is strongly correlated with gust speed, which is expected. "
   ]
  },
  {
   "cell_type": "markdown",
   "id": "4b99febf",
   "metadata": {},
   "source": [
    "Now let's try to extract a correlation matrix for all the **numerical columns**"
   ]
  },
  {
   "cell_type": "markdown",
   "id": "54fb3c4e",
   "metadata": {},
   "source": [
    "**Insights:**\n",
    "- Temperature and humidity are strongly \"negatively\" correlated at -0.578 which indicates that as the temperature (especially in the cold weather in January 2023) rises, it will probably result in a less humid atmosphere.\n",
    "- Temperature and pressure are strongly \"negatively\" correlated at -0.482231 which indicates that a rise in temperature will reduce atmospheric pressure, which is expected. \n",
    "- Humidity and dew points are very weakly correlated at 0.101796 and it appears that there is no relationship between them. (Is this expected?)\n",
    "\n",
    "Any other insights?"
   ]
  },
  {
   "cell_type": "markdown",
   "id": "6c12ee8d",
   "metadata": {},
   "source": [
    "## 4. Data visualization"
   ]
  },
  {
   "cell_type": "markdown",
   "id": "e2aaae77",
   "metadata": {},
   "source": [
    "## 4.1. Bar Graphs\n",
    "A bar chart or bar graph is a chart or graph that presents categorical data with rectangular bars with heights or lengths proportional to the values that they represent. \n",
    "\n",
    "In the above data, the only categorical data is \"Date\" (we are of-course ignoring the  unprocessed columns from Average direction onwards).\n",
    "\n",
    "Say we want to plot Average Temperature for **five random dates**, without maintaining sequentiality. We can go for a bar graph.\n"
   ]
  },
  {
   "cell_type": "code",
   "execution_count": 133,
   "id": "6dcff0e0",
   "metadata": {
    "scrolled": true
   },
   "outputs": [
    {
     "data": {
      "text/plain": [
       "<BarContainer object of 5 artists>"
      ]
     },
     "execution_count": 133,
     "metadata": {},
     "output_type": "execute_result"
    },
    {
     "data": {
      "text/plain": [
       "Text(0.5, 0, 'Date')"
      ]
     },
     "execution_count": 133,
     "metadata": {},
     "output_type": "execute_result"
    },
    {
     "data": {
      "text/plain": [
       "Text(0, 0.5, \"Average per-day temperature in 'F\")"
      ]
     },
     "execution_count": 133,
     "metadata": {},
     "output_type": "execute_result"
    },
    {
     "data": {
      "text/plain": [
       "Text(0.5, 1.0, 'Temperature for 5 random days January 2023')"
      ]
     },
     "execution_count": 133,
     "metadata": {},
     "output_type": "execute_result"
    },
    {
     "data": {
      "image/png": "[encoded data removed]",
      "text/plain": [
       "<Figure size 640x480 with 1 Axes>"
      ]
     },
     "metadata": {},
     "output_type": "display_data"
    }
   ],
   "source": [
    "five_random_days = [1,4,8,19,25]\n",
    "\n",
    "date_column = estes_park_df[\"Average and Extremes\"]\n",
    "temp_column = estes_park_df[\"Average temperature\"]\n",
    "\n",
    "selected_dates = []\n",
    "selected_temps = []\n",
    "\n",
    "for day_id in five_random_days:\n",
    "    selected_dates.append(date_column[day_id])\n",
    "    selected_temps.append(temp_column[day_id])\n",
    "    \n",
    "\n",
    "# Now plot our bar graph\n",
    "plt.bar(selected_dates, selected_temps, color ='maroon', width = 0.4)\n",
    "\n",
    "# Now add axis labels with units\n",
    "plt.xlabel(\"Date\")\n",
    "plt.ylabel(\"Average per-day temperature in 'F\")\n",
    "\n",
    "# We can add a title too\n",
    "plt.title(\"Temperature for 5 random days January 2023\")\n"
   ]
  },
  {
   "cell_type": "markdown",
   "id": "f8764e22",
   "metadata": {},
   "source": [
    "## 4.2. Line Graphs\n",
    "\n",
    "- Best used when the x-axis represents a sequence (e.g., time) and y-axis is a continuous numerical variable.\n",
    "\n",
    "We can approximate days in January 2023 as a representation of sequentiality (time) and plot temperature-vs-day as a line graph"
   ]
  },
  {
   "cell_type": "code",
   "execution_count": 134,
   "id": "1eca9475",
   "metadata": {},
   "outputs": [
    {
     "data": {
      "text/plain": [
       "[<matplotlib.lines.Line2D at 0x7fc3a19dce50>]"
      ]
     },
     "execution_count": 134,
     "metadata": {},
     "output_type": "execute_result"
    },
    {
     "data": {
      "text/plain": [
       "Text(0.5, 0, 'Day number')"
      ]
     },
     "execution_count": 134,
     "metadata": {},
     "output_type": "execute_result"
    },
    {
     "data": {
      "text/plain": [
       "Text(0, 0.5, \"Average per-day temperature in 'F\")"
      ]
     },
     "execution_count": 134,
     "metadata": {},
     "output_type": "execute_result"
    },
    {
     "data": {
      "text/plain": [
       "Text(0.5, 1.0, 'Temperature progression in January 2023')"
      ]
     },
     "execution_count": 134,
     "metadata": {},
     "output_type": "execute_result"
    },
    {
     "data": {
      "image/png": "[encoded data removed]",
      "text/plain": [
       "<Figure size 640x480 with 1 Axes>"
      ]
     },
     "metadata": {},
     "output_type": "display_data"
    }
   ],
   "source": [
    "day_ids = range(len(date_column)) # creates a variable 0,1,2...total_days\n",
    "temp_column = estes_park_df[\"Average temperature\"]\n",
    "\n",
    "plt.plot(day_ids,temp_column, marker='o')\n",
    "\n",
    "plt.xlabel(\"Day number\")\n",
    "plt.ylabel(\"Average per-day temperature in 'F\")\n",
    "\n",
    "# We can add a title too\n",
    "plt.title(\"Temperature progression in January 2023\")"
   ]
  },
  {
   "cell_type": "markdown",
   "id": "f7fe07b1",
   "metadata": {},
   "source": [
    "## 4.3. Scatter Plots\n",
    "\n",
    "- Best for representing relationship between two continuous variables\n",
    "- Can add third continuous variable represented by marker size\n",
    "- Can add categorical information by changing marker color\n",
    "\n",
    "Let's plot windspeed and gust speed together. "
   ]
  },
  {
   "cell_type": "code",
   "execution_count": 135,
   "id": "a9c0d5aa",
   "metadata": {
    "scrolled": false
   },
   "outputs": [
    {
     "data": {
      "text/plain": [
       "<matplotlib.collections.PathCollection at 0x7fc3a19fcb80>"
      ]
     },
     "execution_count": 135,
     "metadata": {},
     "output_type": "execute_result"
    },
    {
     "data": {
      "text/plain": [
       "Text(0.5, 0, 'Average windspeed (in mph)')"
      ]
     },
     "execution_count": 135,
     "metadata": {},
     "output_type": "execute_result"
    },
    {
     "data": {
      "text/plain": [
       "Text(0, 0.5, 'Average gustspeed (in mph)')"
      ]
     },
     "execution_count": 135,
     "metadata": {},
     "output_type": "execute_result"
    },
    {
     "data": {
      "text/plain": [
       "Text(0.5, 1.0, 'gustspeed-vs-windspeed in January 2023')"
      ]
     },
     "execution_count": 135,
     "metadata": {},
     "output_type": "execute_result"
    },
    {
     "data": {
      "image/png": "[encoded data removed]",
      "text/plain": [
       "<Figure size 640x480 with 1 Axes>"
      ]
     },
     "metadata": {},
     "output_type": "display_data"
    }
   ],
   "source": [
    "windspeed_column = estes_park_df[\"Average windspeed\"]\n",
    "gustspeed_column = estes_park_df[\"Average gustspeed\"]\n",
    "\n",
    "plt.scatter(windspeed_column,gustspeed_column, marker=\"*\")\n",
    "\n",
    "plt.xlabel(\"Average windspeed (in mph)\")\n",
    "plt.ylabel(\"Average gustspeed (in mph)\")\n",
    "\n",
    "# We can add a title too\n",
    "plt.title(\"gustspeed-vs-windspeed in January 2023\")"
   ]
  },
  {
   "cell_type": "markdown",
   "id": "cf4a93ef",
   "metadata": {},
   "source": [
    "Does this corroborate with our correlation analysis in 3.2?"
   ]
  },
  {
   "cell_type": "markdown",
   "id": "fb8b8dab",
   "metadata": {},
   "source": [
    "Now let's draw a scatter plot considering three variables where the third variable is represented by marker size. The variables are:\n",
    "\n",
    "- Average temperature\n",
    "- Average pressure (barometer)\n",
    "- Average humidity"
   ]
  },
  {
   "cell_type": "code",
   "execution_count": 136,
   "id": "e3e15000",
   "metadata": {
    "scrolled": true
   },
   "outputs": [
    {
     "data": {
      "text/plain": [
       "<matplotlib.collections.PathCollection at 0x7fc3c3302b80>"
      ]
     },
     "execution_count": 136,
     "metadata": {},
     "output_type": "execute_result"
    },
    {
     "data": {
      "image/png": "[encoded data removed]",
      "text/plain": [
       "<Figure size 640x480 with 1 Axes>"
      ]
     },
     "metadata": {},
     "output_type": "display_data"
    }
   ],
   "source": [
    "temp_column = estes_park_df[\"Average temperature\"]\n",
    "pressure_column = estes_park_df[\"Average barometer\"]\n",
    "humidity_column = estes_park_df[\"Average humidity\"]\n",
    "\n",
    "plt.scatter(temp_column, pressure_column, marker=\"o\", s=humidity_column)"
   ]
  },
  {
   "cell_type": "markdown",
   "id": "204595e3",
   "metadata": {},
   "source": [
    "## 4.4. Box Plots\n",
    "- A Box Plot is also known as Whisker plot is created to display the summary of the set of data values for a variable \n",
    "- Properties like minimum, first quartile, median, third quartile and maximum. \n",
    "- Also plots outliers\n",
    "\n",
    "Let's plot Average temperature using boxplot."
   ]
  },
  {
   "cell_type": "code",
   "execution_count": 137,
   "id": "29bce620",
   "metadata": {
    "scrolled": true
   },
   "outputs": [
    {
     "data": {
      "text/plain": [
       "{'whiskers': [<matplotlib.lines.Line2D at 0x7fc3c3332fa0>,\n",
       "  <matplotlib.lines.Line2D at 0x7fc3c33432b0>],\n",
       " 'caps': [<matplotlib.lines.Line2D at 0x7fc3c3343580>,\n",
       "  <matplotlib.lines.Line2D at 0x7fc3c3343850>],\n",
       " 'boxes': [<matplotlib.lines.Line2D at 0x7fc3c3332d30>],\n",
       " 'medians': [<matplotlib.lines.Line2D at 0x7fc3c3343b20>],\n",
       " 'fliers': [<matplotlib.lines.Line2D at 0x7fc3c3343df0>],\n",
       " 'means': []}"
      ]
     },
     "execution_count": 137,
     "metadata": {},
     "output_type": "execute_result"
    },
    {
     "data": {
      "text/plain": [
       "Text(0.5, 0, 'Temperature')"
      ]
     },
     "execution_count": 137,
     "metadata": {},
     "output_type": "execute_result"
    },
    {
     "data": {
      "text/plain": [
       "Text(0, 0.5, \"Temp in 'F\")"
      ]
     },
     "execution_count": 137,
     "metadata": {},
     "output_type": "execute_result"
    },
    {
     "data": {
      "image/png": "[encoded data removed]",
      "text/plain": [
       "<Figure size 640x480 with 1 Axes>"
      ]
     },
     "metadata": {},
     "output_type": "display_data"
    }
   ],
   "source": [
    "temp_column = estes_park_df[\"Average temperature\"]\n",
    "\n",
    "plt.boxplot(temp_column)\n",
    "\n",
    "plt.xlabel(\"Temperature\")\n",
    "plt.ylabel(\"Temp in 'F\")"
   ]
  },
  {
   "cell_type": "markdown",
   "id": "33e8df68",
   "metadata": {},
   "source": [
    "## E2. Exercise: IMDB Movie Data\n",
    "\n",
    "- Download the IMDB Movie Data (extracted from Kaggle's IMDB Movie Dataset posting) from **Canvas->Files->Week6->IMDB_movie_metadata_small.csv**\n",
    "- Load the data to a Pandas dataframe using read_csv() method \n",
    "- Which columns are categorical and which ones are numerical? Write in a markdown block.\n",
    "- Describe columns \"gross\" (represents total revenue made by the movie) and \"imdb_score\" using describe(). Write your insights in a markdown block.\n",
    "- Analyze \"imdb_score\" and \"gross\" together by computing the Pearson's correlation coefficient. What does it tell you? Write down in a markdown block.\n",
    "- Plot \"gross\" vs \"director_name\" for the **first 10 rows**. Which form of plot are you going to use?\n",
    "- Plot \"imdb_score\"-vs-\"movie_facebook_likes\". Which form of plot are you going to use?\n",
    "- Boxplot \"gross\" and write down your insights from the box plot. \n",
    "\n"
   ]
  },
  {
   "cell_type": "markdown",
   "id": "6f272e19",
   "metadata": {},
   "source": [
    "Categorical (3) : Movie ID (\"Movie_ID\"), Director Name (\"director_name\"), Title Year (\"title_year\")\n",
    "\n",
    "Numerical (3) : IMDB Score (\"imdb_score\"), Movie Facebook Likes (\"movie_facebook_likes\"), and Total Revenue (\"gross\")"
   ]
  },
  {
   "cell_type": "code",
   "execution_count": 138,
   "id": "aab3e12a",
   "metadata": {},
   "outputs": [
    {
     "name": "stdout",
     "output_type": "stream",
     "text": [
      "<class 'pandas.core.frame.DataFrame'>\n",
      "RangeIndex: 3752 entries, 0 to 3751\n",
      "Data columns (total 6 columns):\n",
      " #   Column                Non-Null Count  Dtype  \n",
      "---  ------                --------------  -----  \n",
      " 0   Movie_ID              3752 non-null   int64  \n",
      " 1   director_name         3752 non-null   object \n",
      " 2   imdb_score            3752 non-null   float64\n",
      " 3   movie_facebook_likes  3752 non-null   int64  \n",
      " 4   gross                 3752 non-null   int64  \n",
      " 5   title_year            3752 non-null   int64  \n",
      "dtypes: float64(1), int64(4), object(1)\n",
      "memory usage: 176.0+ KB\n"
     ]
    }
   ],
   "source": [
    "# Load the IMDB Movie Data\n",
    "# Telling jupyter not to ignore any output that is supposed to be printed\n",
    "from IPython.core.interactiveshell import InteractiveShell\n",
    "InteractiveShell.ast_node_interactivity = \"all\"\n",
    "\n",
    "IMDB_movie_metadata_df = pd.read_csv(\"IMDB_movie_metadata_small.csv\")\n",
    "IMDB_movie_metadata_df.info()\n"
   ]
  },
  {
   "cell_type": "code",
   "execution_count": 139,
   "id": "f77dd064",
   "metadata": {},
   "outputs": [
    {
     "name": "stdout",
     "output_type": "stream",
     "text": [
      "0       760505847\n",
      "1       309404152\n",
      "2       200074175\n",
      "3       448130642\n",
      "4        73058679\n",
      "          ...    \n",
      "3747       136007\n",
      "3748       673780\n",
      "3749       424760\n",
      "3750      2040920\n",
      "3751        85222\n",
      "Name: gross, Length: 3752, dtype: int64\n",
      "0       7.9\n",
      "1       7.1\n",
      "2       6.8\n",
      "3       8.5\n",
      "4       6.6\n",
      "       ... \n",
      "3747    6.9\n",
      "3748    7.5\n",
      "3749    7.0\n",
      "3750    6.9\n",
      "3751    6.6\n",
      "Name: imdb_score, Length: 3752, dtype: float64\n"
     ]
    }
   ],
   "source": [
    "# Access column data for 'gross' and 'imdb_score'\n",
    "gross = IMDB_movie_metadata_df[\"gross\"]\n",
    "print (gross)\n",
    "\n",
    "imdb_score = IMDB_movie_metadata_df[\"imdb_score\"]\n",
    "print (imdb_score)"
   ]
  },
  {
   "cell_type": "code",
   "execution_count": 140,
   "id": "94cd6859",
   "metadata": {},
   "outputs": [
    {
     "data": {
      "text/plain": [
       "count    3.752000e+03\n",
       "mean     5.241706e+07\n",
       "std      6.996881e+07\n",
       "min      1.620000e+02\n",
       "25%      8.216464e+06\n",
       "50%      3.007156e+07\n",
       "75%      6.674881e+07\n",
       "max      7.605058e+08\n",
       "Name: gross, dtype: float64"
      ]
     },
     "execution_count": 140,
     "metadata": {},
     "output_type": "execute_result"
    },
    {
     "data": {
      "text/plain": [
       "count    3752.000000\n",
       "mean        6.464819\n",
       "std         1.056651\n",
       "min         1.600000\n",
       "25%         5.900000\n",
       "50%         6.600000\n",
       "75%         7.200000\n",
       "max         9.300000\n",
       "Name: imdb_score, dtype: float64"
      ]
     },
     "execution_count": 140,
     "metadata": {},
     "output_type": "execute_result"
    }
   ],
   "source": [
    "# Get descriptive statistics for 'gross' and 'imdb_score'\n",
    "gross.describe()\n",
    "imdb_score.describe()"
   ]
  },
  {
   "cell_type": "markdown",
   "id": "6e86308d",
   "metadata": {},
   "source": [
    "\"gross\" - Total Revenue Insights: Using .describe(), the movies included in the dataset make an average total revenue of '$52.4 million dollars' with a standard deviation of about $69-70 million dollars. With this standard deviation and given that the highest (or maximum) revenue earned by a movie totaled over $760 million and the lowest totaled $162.00, it is clear the data set has quite a bit of variability. Using the median and IQR may give us more of a realistic impression of the data. The median revenue of the movies in the dataset was $30,071,560 million. However, at least 50 percent of the movies included in this dataset earned a total revenue between $8,216,464 and $66,748,806. \n",
    "\n",
    "\"imbd_score\" - IMBD SCORE Insights: The average IMDB score of the movies included in this dataset is 6.46 with a standard deviation of about 1.057. With little variability, meaning the data included is relativelys similar, the minimum score earned was a 1.6 and the maximum score earned was a 9.3. Over 50 percent of the movies included in this data set achieved a score between 5.9 and 7.2. "
   ]
  },
  {
   "cell_type": "code",
   "execution_count": 141,
   "id": "fcff263f",
   "metadata": {},
   "outputs": [
    {
     "name": "stdout",
     "output_type": "stream",
     "text": [
      "0.21416282319753294\n"
     ]
    }
   ],
   "source": [
    "# Analyze 'gross' and 'imdb_score' together w/ Pearson's correlation coefficient\n",
    "from scipy.stats import pearsonr\n",
    "\n",
    "p = pearsonr(IMDB_movie_metadata_df[\"gross\"],IMDB_movie_metadata_df[\"imdb_score\"])\n",
    "print (p[0])"
   ]
  },
  {
   "cell_type": "markdown",
   "id": "cad0b003",
   "metadata": {},
   "source": [
    "With a pearson correlation coefficient of ~0.214, the data suggests that the total revenue generated by a movie (\"gross\") is positive, but pretty weakly correlated with the given IMDB Scores. Correlation coefficients below 0.3 are generally determined to be pretty weak relationships. "
   ]
  },
  {
   "cell_type": "code",
   "execution_count": 142,
   "id": "b76ff06e",
   "metadata": {
    "scrolled": true
   },
   "outputs": [
    {
     "data": {
      "text/plain": [
       "<BarContainer object of 10 artists>"
      ]
     },
     "execution_count": 142,
     "metadata": {},
     "output_type": "execute_result"
    },
    {
     "data": {
      "text/plain": [
       "Text(0, 0.5, 'Director')"
      ]
     },
     "execution_count": 142,
     "metadata": {},
     "output_type": "execute_result"
    },
    {
     "data": {
      "text/plain": [
       "Text(0.5, 0, 'Total Revenue Produced by Movie (in $, Hundreds of Million)')"
      ]
     },
     "execution_count": 142,
     "metadata": {},
     "output_type": "execute_result"
    },
    {
     "data": {
      "text/plain": [
       "Text(0.5, 1.0, 'Total Movie Revenue by Movie Director')"
      ]
     },
     "execution_count": 142,
     "metadata": {},
     "output_type": "execute_result"
    },
    {
     "data": {
      "image/png": "[encoded data removed]",
      "text/plain": [
       "<Figure size 1600x900 with 1 Axes>"
      ]
     },
     "metadata": {},
     "output_type": "display_data"
    }
   ],
   "source": [
    "from matplotlib import pyplot as plt\n",
    "\n",
    "# Printing first 10 rows\n",
    "first_10_rows = IMDB_movie_metadata_df.head(10) \n",
    "\n",
    "gross_column = first_10_rows[\"gross\"]\n",
    "director_name_column = first_10_rows[\"director_name\"]\n",
    "\n",
    "# Figure size\n",
    "fig, ax = plt.subplots(figsize = (16,9))\n",
    "ax.invert_yaxis()\n",
    "\n",
    "# Plotting a horizantal bar graph so that the director name's are visible and graph is easier to digest\n",
    "plt.barh(director_name_column, gross_column, color ='maroon')\n",
    "\n",
    "# Now add axis labels with units\n",
    "plt.ylabel(\"Director\")\n",
    "plt.xlabel(\"Total Revenue Produced by Movie (in $, Hundreds of Million)\")\n",
    "plt.title(\"Total Movie Revenue by Movie Director\")\n"
   ]
  },
  {
   "cell_type": "code",
   "execution_count": 143,
   "id": "4fc80087",
   "metadata": {},
   "outputs": [
    {
     "data": {
      "text/plain": [
       "<matplotlib.collections.PathCollection at 0x7fc3a1d41a90>"
      ]
     },
     "execution_count": 143,
     "metadata": {},
     "output_type": "execute_result"
    },
    {
     "data": {
      "text/plain": [
       "Text(0.5, 0, 'IMDB Score')"
      ]
     },
     "execution_count": 143,
     "metadata": {},
     "output_type": "execute_result"
    },
    {
     "data": {
      "text/plain": [
       "Text(0, 0.5, \"Movie's Total Facebook Likes\")"
      ]
     },
     "execution_count": 143,
     "metadata": {},
     "output_type": "execute_result"
    },
    {
     "data": {
      "text/plain": [
       "Text(0.5, 1.0, \"IMDB Score vs. Movie's Total Facebook Likes\")"
      ]
     },
     "execution_count": 143,
     "metadata": {},
     "output_type": "execute_result"
    },
    {
     "data": {
      "image/png": "[encoded data removed]",
      "text/plain": [
       "<Figure size 640x480 with 1 Axes>"
      ]
     },
     "metadata": {},
     "output_type": "display_data"
    }
   ],
   "source": [
    "# Plotting 'imdb_score' (numerical) and 'movie_facebook_likes' (numerical)\n",
    "# Scatter Plot\n",
    "\n",
    "imdb_score_column = IMDB_movie_metadata_df[\"imdb_score\"]\n",
    "movie_facebook_likes_column = IMDB_movie_metadata_df[\"movie_facebook_likes\"]\n",
    "\n",
    "plt.scatter(imdb_score_column, movie_facebook_likes_column, marker=\"*\")\n",
    "\n",
    "plt.xlabel(\"IMDB Score\")\n",
    "plt.ylabel(\"Movie's Total Facebook Likes\")\n",
    "\n",
    "# We can add a title too\n",
    "plt.title(\"IMDB Score vs. Movie's Total Facebook Likes\")"
   ]
  },
  {
   "cell_type": "code",
   "execution_count": 146,
   "id": "86413a8a",
   "metadata": {
    "scrolled": true
   },
   "outputs": [
    {
     "data": {
      "text/plain": [
       "{'whiskers': [<matplotlib.lines.Line2D at 0x7fc3c33c7ee0>,\n",
       "  <matplotlib.lines.Line2D at 0x7fc3c33d61f0>],\n",
       " 'caps': [<matplotlib.lines.Line2D at 0x7fc3c33d64c0>,\n",
       "  <matplotlib.lines.Line2D at 0x7fc3c33d6790>],\n",
       " 'boxes': [<matplotlib.lines.Line2D at 0x7fc3c33c7c10>],\n",
       " 'medians': [<matplotlib.lines.Line2D at 0x7fc3c33d6a60>],\n",
       " 'fliers': [<matplotlib.lines.Line2D at 0x7fc3c33d6d30>],\n",
       " 'means': []}"
      ]
     },
     "execution_count": 146,
     "metadata": {},
     "output_type": "execute_result"
    },
    {
     "data": {
      "text/plain": [
       "Text(0.5, 0, 'Total Revenue')"
      ]
     },
     "execution_count": 146,
     "metadata": {},
     "output_type": "execute_result"
    },
    {
     "data": {
      "text/plain": [
       "Text(0, 0.5, 'Total Revenue in Dollars ($)')"
      ]
     },
     "execution_count": 146,
     "metadata": {},
     "output_type": "execute_result"
    },
    {
     "data": {
      "image/png": "[encoded data removed]",
      "text/plain": [
       "<Figure size 640x480 with 1 Axes>"
      ]
     },
     "metadata": {},
     "output_type": "display_data"
    }
   ],
   "source": [
    "# Boxplot for 'gross'\n",
    "gross_column = IMDB_movie_metadata_df[\"gross\"]\n",
    "\n",
    "plt.boxplot(gross_column)\n",
    "\n",
    "plt.xlabel(\"Total Revenue\")\n",
    "plt.ylabel(\"Total Revenue in Dollars ($)\")"
   ]
  },
  {
   "cell_type": "markdown",
   "id": "8dc78046",
   "metadata": {},
   "source": [
    "Based on this boxplot, it is clear that the data is significantly skewed to the left with numerous outliers, mainly those movies who made over $200 million in total revenue. Based on the descriptive stats I found above and the value depicted by this box plot, the median total revenue of the movies was around $30 million. 50 percent of the values fall between ~$8 million and ~$67 million. \n",
    "\n",
    "However, as you can see in the box plot I have provided below for comparison with only the first 10 rows of data, the data is rather skewed to the left with only one significant outlier - that being the maximum gross value of $760.5 million. "
   ]
  },
  {
   "cell_type": "code",
   "execution_count": 148,
   "id": "9cc1bcbe",
   "metadata": {},
   "outputs": [
    {
     "data": {
      "text/plain": [
       "{'whiskers': [<matplotlib.lines.Line2D at 0x7fc3c3829790>,\n",
       "  <matplotlib.lines.Line2D at 0x7fc3c3829a60>],\n",
       " 'caps': [<matplotlib.lines.Line2D at 0x7fc3c3829d30>,\n",
       "  <matplotlib.lines.Line2D at 0x7fc3c3838040>],\n",
       " 'boxes': [<matplotlib.lines.Line2D at 0x7fc3c38294f0>],\n",
       " 'medians': [<matplotlib.lines.Line2D at 0x7fc3c3838310>],\n",
       " 'fliers': [<matplotlib.lines.Line2D at 0x7fc3c3838580>],\n",
       " 'means': []}"
      ]
     },
     "execution_count": 148,
     "metadata": {},
     "output_type": "execute_result"
    },
    {
     "data": {
      "text/plain": [
       "Text(0.5, 0, 'Total Revenue')"
      ]
     },
     "execution_count": 148,
     "metadata": {},
     "output_type": "execute_result"
    },
    {
     "data": {
      "text/plain": [
       "Text(0, 0.5, 'Total Revenue in Dollars ($)')"
      ]
     },
     "execution_count": 148,
     "metadata": {},
     "output_type": "execute_result"
    },
    {
     "data": {
      "image/png": "[encoded data removed]",
      "text/plain": [
       "<Figure size 640x480 with 1 Axes>"
      ]
     },
     "metadata": {},
     "output_type": "display_data"
    }
   ],
   "source": [
    "# Boxplot for 'gross' w/ only first 10 ROWS of Data\n",
    "gross_column = IMDB_movie_metadata_df[\"gross\"].head(10)\n",
    "\n",
    "plt.boxplot(gross_column)\n",
    "\n",
    "plt.xlabel(\"Total Revenue\")\n",
    "plt.ylabel(\"Total Revenue in Dollars ($)\")"
   ]
  },
  {
   "cell_type": "markdown",
   "id": "845cd365",
   "metadata": {},
   "source": [
    "## [Optional] Pro-tip: Go through Seaborn tutorial \n",
    "\n",
    "Seaborn is a library mostly used for statistical plotting in Python. It is built on top of Matplotlib and provides beautiful default styles and color palettes to make statistical plots more attractive.\n",
    "\n",
    "Tutorial here:\n",
    "\n",
    "https://www.geeksforgeeks.org/python-seaborn-tutorial/"
   ]
  },
  {
   "cell_type": "code",
   "execution_count": null,
   "id": "7f8e01c7",
   "metadata": {},
   "outputs": [],
   "source": []
  }
 ],
 "metadata": {
  "kernelspec": {
   "display_name": "Python 3 (ipykernel)",
   "language": "python",
   "name": "python3"
  },
  "language_info": {
   "codemirror_mode": {
    "name": "ipython",
    "version": 3
   },
   "file_extension": ".py",
   "mimetype": "text/x-python",
   "name": "python",
   "nbconvert_exporter": "python",
   "pygments_lexer": "ipython3",
   "version": "3.9.13"
  }
 },
 "nbformat": 4,
 "nbformat_minor": 5
}
